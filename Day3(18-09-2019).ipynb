{
 "cells": [
  {
   "cell_type": "markdown",
   "metadata": {},
   "source": [
    "### functions with string operations"
   ]
  },
  {
   "cell_type": "code",
   "execution_count": null,
   "metadata": {},
   "outputs": [],
   "source": []
  },
  {
   "cell_type": "code",
   "execution_count": null,
   "metadata": {},
   "outputs": [],
   "source": []
  },
  {
   "cell_type": "code",
   "execution_count": null,
   "metadata": {},
   "outputs": [],
   "source": []
  },
  {
   "cell_type": "code",
   "execution_count": null,
   "metadata": {},
   "outputs": [],
   "source": []
  },
  {
   "cell_type": "code",
   "execution_count": null,
   "metadata": {},
   "outputs": [],
   "source": []
  },
  {
   "cell_type": "code",
   "execution_count": 1,
   "metadata": {},
   "outputs": [
    {
     "data": {
      "text/plain": [
       "'nohtyp'"
      ]
     },
     "execution_count": 1,
     "metadata": {},
     "output_type": "execute_result"
    }
   ],
   "source": [
    "# revrse the string\n",
    "def reverseStr(s):\n",
    "   return s[-1::-1]\n",
    "reverseStr('python')"
   ]
  },
  {
   "cell_type": "code",
   "execution_count": 2,
   "metadata": {},
   "outputs": [
    {
     "name": "stdout",
     "output_type": "stream",
     "text": [
      "False\n",
      "True\n"
     ]
    }
   ],
   "source": [
    "# check the given string is palindrome or not \n",
    "def isPalindrome(s):\n",
    "   if s == s[-1::-1]:\n",
    "       return True\n",
    "   return False\n",
    "print(isPalindrome('python'))\n",
    "print(isPalindrome('ganag'))\n"
   ]
  },
  {
   "cell_type": "code",
   "execution_count": 30,
   "metadata": {},
   "outputs": [
    {
     "name": "stdout",
     "output_type": "stream",
     "text": [
      "P T "
     ]
    }
   ],
   "source": [
    "#functions to print the upper case characters\n",
    "#example : python--P T\n",
    "#ASCII\n",
    "#A - Z :65-90\n",
    "#a-z : 97-122\n",
    "#0-9:48-57\n",
    "#space:32\n",
    "\n",
    "def printupper(s):\n",
    "  for i in range (len(s)):\n",
    "      if ord(s[i]) >= 65 and ord(s[i]) <= 90:\n",
    "          print(s[i],end=' ')\n",
    "  return\n",
    "printupper('PyThon') # P T\n"
   ]
  },
  {
   "cell_type": "code",
   "execution_count": 50,
   "metadata": {
    "scrolled": true
   },
   "outputs": [
    {
     "data": {
      "text/plain": [
       "'SameCount'"
      ]
     },
     "execution_count": 50,
     "metadata": {},
     "output_type": "execute_result"
    }
   ],
   "source": [
    "#function to return the output as \"sameCount\" or \"programming\"\n",
    "#sameCount -- Lower and upper chars have same coount\n",
    "#programming -- count of lower and case is not same\n",
    "\n",
    "#Example #1:pyThOn --3 P T O\n",
    "#                  --3 y h n\n",
    "#output:sameCount\n",
    "#Example #2:pythoN --2 P N\n",
    "#                   --4 y t h o\n",
    "#output:programming\n",
    "\n",
    "def findCharCount(s):\n",
    "    cntUpper = 0\n",
    "    cntLower = 0\n",
    "    for i in range(len(s)):\n",
    "        if ord(s[i]) >= 65 and ord(s[i]) <=90:\n",
    "            cntUpper += 1\n",
    "        elif ord(s[i]) >= 97 and ord(s[i]) <= 122:\n",
    "            cntLower += 1\n",
    "    if cntLower == cntUpper:\n",
    "         return \"SameCount\"\n",
    "    return \"Programming\"\n",
    "findCharCount('PyThoN')   \n"
   ]
  },
  {
   "cell_type": "code",
   "execution_count": 43,
   "metadata": {},
   "outputs": [
    {
     "name": "stdout",
     "output_type": "stream",
     "text": [
      "1 8 8 9 "
     ]
    }
   ],
   "source": [
    "#function to extract the digit from the string\n",
    "#example #1:\n",
    "#input:Appli18cation89\n",
    "#output:1 8 8 9\n",
    "\n",
    "def extractDigits(s):\n",
    "    for i in range(len(s)):\n",
    "        if ord(s[i]) >= 48 and ord(s[i]) <= 57:\n",
    "            print(s[i],end=' ')\n",
    "    return \n",
    "extractDigits('Appli18cation89')\n",
    "\n"
   ]
  },
  {
   "cell_type": "code",
   "execution_count": 51,
   "metadata": {},
   "outputs": [
    {
     "data": {
      "text/plain": [
       "26"
      ]
     },
     "execution_count": 51,
     "metadata": {},
     "output_type": "execute_result"
    }
   ],
   "source": [
    "#function to add the digits of the string\n",
    "#example #1:\n",
    "#input :Appli18cation89\n",
    "#output:26(1+8+8+9)\n",
    "\n",
    "def sumOfDigits(s):\n",
    "    sum = 0\n",
    "    for i in range(len(s)):\n",
    "        if ord(s[i]) >= 48 and ord(s[i]) <= 57:\n",
    "            sum = sum + (ord(s[i]) - 48)\n",
    "    return sum\n",
    "sumOfDigits('Appli18cation89')\n",
    "\n",
    "\n"
   ]
  },
  {
   "cell_type": "code",
   "execution_count": 53,
   "metadata": {},
   "outputs": [
    {
     "name": "stdout",
     "output_type": "stream",
     "text": [
      "MADE"
     ]
    }
   ],
   "source": [
    "#function to2nd   word in uppercase\n",
    "#example #1:\n",
    "#input:Python Made Easy\n",
    "#output:MADE\n",
    "\n",
    "#example #2:\n",
    "#input:Learn Python Strings\n",
    "#Output:PYTHON\n",
    "\n",
    "def wordUpperCase(s):\n",
    "    cntSpace = 0\n",
    "    for i in range(len(s)):\n",
    "        if ord(s[i]) == 32:\n",
    "            cntSpace += 1\n",
    "        if cntSpace == 1:\n",
    "            if ord(s[i]) >= 65 and ord(s[i]) <= 90:\n",
    "                print(s[i],end='')\n",
    "            elif ord(s[i]) >= 97 and ord(s[i]) <= 122:\n",
    "                print(chr(ord(s[i]) - 32),end='')\n",
    "        if cntSpace == 2:\n",
    "            break\n",
    "    return\n",
    "wordUpperCase('Python Made Easy')\n",
    "            \n",
    "\n"
   ]
  },
  {
   "cell_type": "markdown",
   "metadata": {},
   "source": [
    "# List\n",
    "- one of Data structure in Python\n",
    "- Data structure means to store,sort and search options\n",
    "- it's one common Data structure in python,the items of list separeted enclosed in square brackets[]\n",
    " - example\n",
    "     list1 =[1,2,3,4,5]\n",
    " "
   ]
  },
  {
   "cell_type": "code",
   "execution_count": 54,
   "metadata": {},
   "outputs": [
    {
     "name": "stdout",
     "output_type": "stream",
     "text": [
      "[1, 8, 16, 9, 2]\n",
      "1\n",
      "8\n",
      "2\n",
      "9\n",
      "[16, 9, 2]\n",
      "[16, 9]\n"
     ]
    }
   ],
   "source": [
    "li = [1,8,16,9,2]\n",
    "print(li)\n",
    "print(li[0])\n",
    "print(li[1])\n",
    "print(li[-1])\n",
    "print(li[-2])\n",
    "print(li[2:])\n",
    "print(li[2:4])"
   ]
  },
  {
   "cell_type": "code",
   "execution_count": 55,
   "metadata": {},
   "outputs": [
    {
     "name": "stdout",
     "output_type": "stream",
     "text": [
      "['Gitam', 1582, 2018, 2019, 'Vizag']\n",
      "['Gitam', 1234, 2018, 2019, 'Vizag']\n"
     ]
    }
   ],
   "source": [
    "li = [\"Gitam\",1582,2018,2019,\"Vizag\"]\n",
    "print(li)\n",
    "li[1] = 1234\n",
    "print(li)"
   ]
  },
  {
   "cell_type": "code",
   "execution_count": 60,
   "metadata": {},
   "outputs": [
    {
     "name": "stdout",
     "output_type": "stream",
     "text": [
      "[1234]\n"
     ]
    }
   ],
   "source": [
    "del li[-2]\n",
    "print(li)"
   ]
  },
  {
   "cell_type": "code",
   "execution_count": 61,
   "metadata": {},
   "outputs": [
    {
     "name": "stdout",
     "output_type": "stream",
     "text": [
      "5\n",
      "10\n",
      "True\n",
      "False\n",
      "12345\n",
      "12345"
     ]
    }
   ],
   "source": [
    "li = [1,2,3,4,5]\n",
    "#len of list\n",
    "print(len(li))\n",
    "print(len(li * 2))\n",
    "print(4 in li)\n",
    "print(10 in li)\n",
    "for i in range(len(li)):\n",
    "    print(li[i],end='')\n",
    "print()\n",
    "for i in li:\n",
    "    print(i,end='')"
   ]
  },
  {
   "cell_type": "code",
   "execution_count": 62,
   "metadata": {},
   "outputs": [
    {
     "name": "stdout",
     "output_type": "stream",
     "text": [
      "25\n",
      "1\n",
      "56\n",
      "11\n"
     ]
    }
   ],
   "source": [
    "#Basic list functions \n",
    "li = [1,9,16,25,5]\n",
    "print(max(li))\n",
    "print(min(li))\n",
    "print(sum(li))\n",
    "print(sum(li) //len(li)) #avg os list items\n",
    "\n",
    "\n"
   ]
  },
  {
   "cell_type": "code",
   "execution_count": 1,
   "metadata": {},
   "outputs": [
    {
     "data": {
      "text/plain": [
       "2"
      ]
     },
     "execution_count": 1,
     "metadata": {},
     "output_type": "execute_result"
    }
   ],
   "source": [
    "\n",
    "# methods of list\n",
    "li = [1,9,16,25,5]\n",
    "\n",
    "li.append(29) # add the new  item at the end of list\n",
    "li.insert(2,56) # add the new itwm at the specific index\n",
    "li.append(9)\n",
    "li.count(9) # returns the value how many objects repeated\n",
    "li.index(56) # return the value at that index"
   ]
  },
  {
   "cell_type": "code",
   "execution_count": 2,
   "metadata": {},
   "outputs": [
    {
     "data": {
      "text/plain": [
       "[1, 9, 9, 16, 25, 29]"
      ]
     },
     "execution_count": 2,
     "metadata": {},
     "output_type": "execute_result"
    }
   ],
   "source": [
    "# method of the list objects\n",
    "li.sort() # Sorts the list in asending order\n",
    "li.pop() # last index value\n",
    "li.pop(1) # removes the\n",
    "li"
   ]
  },
  {
   "cell_type": "code",
   "execution_count": 4,
   "metadata": {},
   "outputs": [
    {
     "name": "stdout",
     "output_type": "stream",
     "text": [
      "45\n",
      "19\n"
     ]
    }
   ],
   "source": [
    "# Function to return the large number from the list\n",
    "def largeNumber(li):\n",
    "   li.sort()\n",
    "   return li[-1]\n",
    "def genericLarge(li,n):\n",
    "   li.sort()\n",
    "   return li[-n]\n",
    "li = [19,1,25,6,9,45,22]\n",
    "print(largeNumber(li))\n",
    "print(genericLarge(li,4))\n"
   ]
  },
  {
   "cell_type": "code",
   "execution_count": 7,
   "metadata": {},
   "outputs": [
    {
     "name": "stdout",
     "output_type": "stream",
     "text": [
      "1\n",
      "19\n"
     ]
    }
   ],
   "source": [
    "#function to find leat and genric least number\n",
    "def leastNumber(li):\n",
    "    li.sort()\n",
    "    return li[0]\n",
    "def genericLeastNumber(li,n):\n",
    "    li.sort()\n",
    "    return li[n-1]\n",
    "li=[19,1,25,6,9,45,22]\n",
    "print(leastNumber(li))\n",
    "print(genericLeastNumber(li,4))\n"
   ]
  },
  {
   "cell_type": "markdown",
   "metadata": {},
   "source": [
    "### File Handling in python\n",
    ". File - Document which contains some information and resides on permanent device\n",
    ". different types of files--.txt,.pdf,.doc,.ppf\n",
    ".input-keyboard\n",
    ".output-File system\n"
   ]
  },
  {
   "cell_type": "code",
   "execution_count": 10,
   "metadata": {},
   "outputs": [
    {
     "name": "stdout",
     "output_type": "stream",
     "text": [
      "File is sucessfully crated and data has inserted\n"
     ]
    }
   ],
   "source": [
    "#function to create file and write some data to the file\n",
    "#mode --w(it create the file )\n",
    "\n",
    "\n",
    "\n",
    "\n",
    "def createFile(filename):\n",
    "    f=open(filename,'w')\n",
    "    for i in range(10):\n",
    "        f.write('this is %d Line \\n' % i)\n",
    "    print('File is sucessfully crated and data has inserted')\n",
    "    return\n",
    "createFile('data.txt')"
   ]
  },
  {
   "cell_type": "code",
   "execution_count": 11,
   "metadata": {},
   "outputs": [
    {
     "data": {
      "text/plain": [
       "'C:\\\\Users\\\\user\\\\Desktop\\\\problem solving& programming'"
      ]
     },
     "execution_count": 11,
     "metadata": {},
     "output_type": "execute_result"
    }
   ],
   "source": [
    "pwd\n"
   ]
  },
  {
   "cell_type": "code",
   "execution_count": 14,
   "metadata": {},
   "outputs": [
    {
     "name": "stdout",
     "output_type": "stream",
     "text": [
      "completed Scessfully\n"
     ]
    }
   ],
   "source": [
    "def createFile(filename):\n",
    "    f=open(filename,'w')\n",
    "    for i in range(10):\n",
    "        f.write('Gitam vizag traine\\n')\n",
    "    print('completed Scessfully')\n",
    "    return\n",
    "createFile('data.txt')"
   ]
  },
  {
   "cell_type": "code",
   "execution_count": 13,
   "metadata": {},
   "outputs": [
    {
     "name": "stdout",
     "output_type": "stream",
     "text": [
      " programm completed Scessfully\n"
     ]
    }
   ],
   "source": [
    "#mode --a(if the if is not availabe it creates the file)\n",
    "#     --if the file is already present with same name\n",
    "#      -- apped the data at end of the previous line\n",
    "def appendMode(filename):\n",
    "    f=open(filename,'a')\n",
    "    f.write('python programming')\n",
    "    print(' programm completed Scessfully')\n",
    "    return\n",
    "appendMode('data.txt')\n",
    "    "
   ]
  },
  {
   "cell_type": "code",
   "execution_count": 16,
   "metadata": {},
   "outputs": [
    {
     "name": "stdout",
     "output_type": "stream",
     "text": [
      "Gitam vizag traine\n",
      "Gitam vizag traine\n",
      "Gitam vizag traine\n",
      "Gitam vizag traine\n",
      "Gitam vizag traine\n",
      "Gitam vizag traine\n",
      "Gitam vizag traine\n",
      "Gitam vizag traine\n",
      "Gitam vizag traine\n",
      "Gitam vizag traine\n",
      "\n"
     ]
    }
   ],
   "source": [
    "#function to read the file \n",
    "def readFileData(filename):\n",
    "    f=open(filename,'r')\n",
    "    if f.mode == 'r':\n",
    "        a=f.read()\n",
    "        print(a)\n",
    "    f.close()\n",
    "    return\n",
    "readFileData('data.txt')\n",
    "    "
   ]
  },
  {
   "cell_type": "code",
   "execution_count": 23,
   "metadata": {},
   "outputs": [
    {
     "name": "stdout",
     "output_type": "stream",
     "text": [
      "['pro', 'gramm', 'ing', 'in', 'py', 'th', 'on']\n"
     ]
    }
   ],
   "source": [
    "#Anslysis on the file -- word count ,char count,Digit count\n",
    "s1='pro gramm ing in py th on'\n",
    "print(s1.split())\n"
   ]
  },
  {
   "cell_type": "code",
   "execution_count": 17,
   "metadata": {},
   "outputs": [
    {
     "data": {
      "text/plain": [
       "30"
      ]
     },
     "execution_count": 17,
     "metadata": {},
     "output_type": "execute_result"
    }
   ],
   "source": [
    "#word count --input file\n",
    "def wordCount(filename):\n",
    "    with open(filename,'r') as f:\n",
    "        if f.mode == 'r':\n",
    "            a = f.read()\n",
    "            li = a.split()\n",
    "        return len(li)\n",
    "wordCount('data.txt')    \n",
    "        "
   ]
  },
  {
   "cell_type": "code",
   "execution_count": 19,
   "metadata": {},
   "outputs": [
    {
     "data": {
      "text/plain": [
       "0"
      ]
     },
     "execution_count": 19,
     "metadata": {},
     "output_type": "execute_result"
    }
   ],
   "source": [
    "#specific word count from the file \n",
    "# exampe #1:\n",
    "#input --This \n",
    "# output --10\n",
    "\n",
    "#example #2:\n",
    "#input --Gitam\n",
    "#output --1\n",
    "\n",
    "def specificWordCnt(filename,word):\n",
    "    with open(filename,'r') as f:\n",
    "        if f.mode == 'r':\n",
    "            a = f.read()\n",
    "            li = a.split()\n",
    "    return li.count(word)\n",
    "specificWordCnt('data.txt','This')"
   ]
  },
  {
   "cell_type": "code",
   "execution_count": 22,
   "metadata": {},
   "outputs": [
    {
     "data": {
      "text/plain": [
       "7"
      ]
     },
     "execution_count": 22,
     "metadata": {},
     "output_type": "execute_result"
    }
   ],
   "source": [
    "# function to find character count from the input file\n",
    "def charCount(filename):\n",
    "    with open(filename,'r') as f:\n",
    "        if f.mode == 'r':\n",
    "            a = f.read()\n",
    "    return len(li)\n",
    "charCount('data.txt')"
   ]
  },
  {
   "cell_type": "code",
   "execution_count": 24,
   "metadata": {},
   "outputs": [
    {
     "data": {
      "text/plain": [
       "11"
      ]
     },
     "execution_count": 24,
     "metadata": {},
     "output_type": "execute_result"
    }
   ],
   "source": [
    "\n"
   ]
  },
  {
   "cell_type": "code",
   "execution_count": 25,
   "metadata": {},
   "outputs": [
    {
     "data": {
      "text/plain": [
       "11"
      ]
     },
     "execution_count": 25,
     "metadata": {},
     "output_type": "execute_result"
    }
   ],
   "source": [
    "def findLineCount(filename):\n",
    "    with open(filename,'r') as f:\n",
    "        if f.mode == 'r':\n",
    "            a= f.read()\n",
    "            li = a.split('\\n')\n",
    "    return len(li)\n",
    "findLineCount('data.txt')"
   ]
  },
  {
   "cell_type": "code",
   "execution_count": null,
   "metadata": {},
   "outputs": [],
   "source": [
    "#function to find the upper and lower case character\n",
    "# from the input stream\n",
    "def caseCount(filename):\n",
    "        cntUpper = 0\n",
    "        cntLower = 0\n",
    "        cntDigit = 0\n",
    "    with open(filename,'r') as f:\n",
    "        if f.mode == 'r':\n",
    "            a= f.read()\n",
    "            li = list(a)\n",
    "    for i in  range(len(li)):\n",
    "        if ord(li[i]) >=65 and ord(li[i]) <=90:\n",
    "            cntUpper +=1\n",
    "        elif ord(li[i] >= 97 and ord(li[i]) <=122:\n",
    "                  cntLower +=1\n",
    "         elif ord(li[i]) >=48 and ord(li[i]) <=57:\n",
    "                  cntDigit +=1\n",
    "     output = 'Upper Case : {0} Lower Case : {1} Digit : {2}',format()          "
   ]
  },
  {
   "cell_type": "code",
   "execution_count": null,
   "metadata": {},
   "outputs": [],
   "source": []
  },
  {
   "cell_type": "code",
   "execution_count": null,
   "metadata": {},
   "outputs": [],
   "source": []
  },
  {
   "cell_type": "code",
   "execution_count": null,
   "metadata": {},
   "outputs": [],
   "source": []
  },
  {
   "cell_type": "code",
   "execution_count": null,
   "metadata": {},
   "outputs": [],
   "source": []
  },
  {
   "cell_type": "code",
   "execution_count": null,
   "metadata": {},
   "outputs": [],
   "source": []
  },
  {
   "cell_type": "code",
   "execution_count": null,
   "metadata": {},
   "outputs": [],
   "source": []
  }
 ],
 "metadata": {
  "kernelspec": {
   "display_name": "Python 3",
   "language": "python",
   "name": "python3"
  },
  "language_info": {
   "codemirror_mode": {
    "name": "ipython",
    "version": 3
   },
   "file_extension": ".py",
   "mimetype": "text/x-python",
   "name": "python",
   "nbconvert_exporter": "python",
   "pygments_lexer": "ipython3",
   "version": "3.7.3"
  }
 },
 "nbformat": 4,
 "nbformat_minor": 2
}
