{
 "cells": [
  {
   "cell_type": "markdown",
   "metadata": {},
   "source": [
    "### String  Functions\n",
    "- upper() --will convert the input string into upper case\n",
    "- lower() -- will convert the input string into lower case"
   ]
  },
  {
   "cell_type": "code",
   "execution_count": 1,
   "metadata": {},
   "outputs": [
    {
     "name": "stdout",
     "output_type": "stream",
     "text": [
      "PYTHON\n",
      "python\n"
     ]
    }
   ],
   "source": [
    "s1= 'Python'\n",
    "print(s1.upper())\n",
    "print(s1.lower())"
   ]
  },
  {
   "cell_type": "markdown",
   "metadata": {},
   "source": [
    "### String Boolean Function\n",
    "- True or False\n",
    "- islower() --True if the string have all characters lower case\n",
    "- isupper() -- True if the string have all characters upper case\n",
    "- istitle() -- true if string in title case\n",
    "- isnumeric() -- true if string numeric\n",
    "- isalpha() -- true if string only alaphabets\n",
    "- isspace() -- true if string is space"
   ]
  },
  {
   "cell_type": "code",
   "execution_count": 3,
   "metadata": {
    "scrolled": true
   },
   "outputs": [
    {
     "name": "stdout",
     "output_type": "stream",
     "text": [
      "True\n",
      "False\n"
     ]
    }
   ],
   "source": [
    "s1 = \"python\"\n",
    "print(s1.islower())\n",
    "print(s1.isupper())"
   ]
  },
  {
   "cell_type": "code",
   "execution_count": 9,
   "metadata": {},
   "outputs": [
    {
     "name": "stdout",
     "output_type": "stream",
     "text": [
      "False\n"
     ]
    }
   ],
   "source": [
    "s1 = 'Python programming'\n",
    "print(s1.istitle())\n",
    "\n"
   ]
  },
  {
   "cell_type": "code",
   "execution_count": 12,
   "metadata": {},
   "outputs": [
    {
     "name": "stdout",
     "output_type": "stream",
     "text": [
      "True\n",
      "False\n"
     ]
    }
   ],
   "source": [
    "s1 = \"123456\"\n",
    "s2 = \"Py123\"\n",
    "print(s1.isnumeric())\n",
    "print(s2.isnumeric())\n"
   ]
  },
  {
   "cell_type": "code",
   "execution_count": 13,
   "metadata": {},
   "outputs": [
    {
     "name": "stdout",
     "output_type": "stream",
     "text": [
      "False\n",
      "True\n"
     ]
    }
   ],
   "source": [
    "s1 = \"Py123456\"\n",
    "s2 = \"Python\"\n",
    "print(s1.isalpha())\n",
    "print(s2.isalpha())\n"
   ]
  },
  {
   "cell_type": "code",
   "execution_count": 14,
   "metadata": {},
   "outputs": [
    {
     "name": "stdout",
     "output_type": "stream",
     "text": [
      "True\n",
      "False\n"
     ]
    }
   ],
   "source": [
    "s1 = ' '\n",
    "s2 = '1 2 3'\n",
    "print(s1.isspace())\n",
    "print(s2.isspace())"
   ]
  },
  {
   "cell_type": "markdown",
   "metadata": {},
   "source": [
    "### string methods\n",
    "- split() -- return the list of string seprated by white spaces\n",
    "- repalce() --return string replaces by word /charcter\n",
    "- join () -- join the char "
   ]
  },
  {
   "cell_type": "code",
   "execution_count": 15,
   "metadata": {},
   "outputs": [
    {
     "name": "stdout",
     "output_type": "stream",
     "text": [
      "['python', 'programming', 'learn', 'made', 'easy']\n"
     ]
    }
   ],
   "source": [
    "s1 = \"python programming learn made easy\"\n",
    "print(s1.split())"
   ]
  },
  {
   "cell_type": "code",
   "execution_count": 23,
   "metadata": {},
   "outputs": [
    {
     "name": "stdout",
     "output_type": "stream",
     "text": [
      "['python progr', 'mming le', 'rn m', 'de e', 'sy']\n"
     ]
    }
   ],
   "source": [
    "s1 = \"python programming learn made easy\"\n",
    "li =s1.split('a')\n",
    "print(li)"
   ]
  },
  {
   "cell_type": "code",
   "execution_count": 24,
   "metadata": {},
   "outputs": [
    {
     "name": "stdout",
     "output_type": "stream",
     "text": [
      "Python progrDineshmming LeDineshrn MDineshde eDineshsy\n"
     ]
    }
   ],
   "source": [
    "s1 = \"Python programming Learn Made easy\"\n",
    "print(s1.replace('a','Dinesh'))\n"
   ]
  },
  {
   "cell_type": "code",
   "execution_count": 26,
   "metadata": {},
   "outputs": [
    {
     "name": "stdout",
     "output_type": "stream",
     "text": [
      "pbybtbhbobn\n"
     ]
    }
   ],
   "source": [
    "s1 =\"python\"\n",
    "print(\"b\" .join(s1))"
   ]
  },
  {
   "cell_type": "markdown",
   "metadata": {},
   "source": [
    "##  string formating\n",
    "- classic version\n",
    "- current version"
   ]
  },
  {
   "cell_type": "code",
   "execution_count": 28,
   "metadata": {},
   "outputs": [
    {
     "name": "stdout",
     "output_type": "stream",
     "text": [
      "python programming\n"
     ]
    }
   ],
   "source": [
    "# classic version(c orc+)\n",
    "li =[\"python\",\"programming\"]\n",
    "print('%s %s' % (li[0],li[1]))\n"
   ]
  },
  {
   "cell_type": "code",
   "execution_count": 29,
   "metadata": {},
   "outputs": [
    {
     "name": "stdout",
     "output_type": "stream",
     "text": [
      "1 2 3 4\n"
     ]
    }
   ],
   "source": [
    "li =[1,2 ,3 ,4]\n",
    "print('%d %d %d %d' %(li[0],li[1],li[2],li[3]))"
   ]
  },
  {
   "cell_type": "code",
   "execution_count": 30,
   "metadata": {},
   "outputs": [
    {
     "name": "stdout",
     "output_type": "stream",
     "text": [
      "list item 0 : {0} \n",
      " list itm 1 : {1} \n"
     ]
    }
   ],
   "source": [
    "# ,format\n",
    "li =[\"python programming\"]\n",
    "print(\"list item 0 : {0} \\n list itm 1 : {1} \")"
   ]
  },
  {
   "cell_type": "code",
   "execution_count": null,
   "metadata": {},
   "outputs": [],
   "source": []
  },
  {
   "cell_type": "markdown",
   "metadata": {},
   "source": [
    "## data structures\n",
    "- list\n",
    "- tuples\n",
    "- Dictionaries\n"
   ]
  },
  {
   "cell_type": "markdown",
   "metadata": {},
   "source": [
    "## dictionaries\n",
    "- it works on concept of unique data\n",
    "- key value is the unique identifier\n",
    "- each key is separted \n",
    "- each key and value is seprated\n",
    "- dictionaries are enclosed with curly brackets({})\n"
   ]
  },
  {
   "cell_type": "code",
   "execution_count": 33,
   "metadata": {},
   "outputs": [
    {
     "name": "stdout",
     "output_type": "stream",
     "text": [
      "{'Name': 'Gitam', 'EmailId': 'gitamVizag@gmail.com', 'Address': 'vizag'}\n"
     ]
    }
   ],
   "source": [
    "d1 = {\"Name\":\"Gitam\",\"EmailId\":\"gitamVizag@gmail.com\",\"Address\":\"vizag\"}\n",
    "print(d1)"
   ]
  },
  {
   "cell_type": "code",
   "execution_count": 34,
   "metadata": {},
   "outputs": [
    {
     "data": {
      "text/plain": [
       "'gitamVizag@gmail.com'"
      ]
     },
     "execution_count": 34,
     "metadata": {},
     "output_type": "execute_result"
    }
   ],
   "source": [
    "d1[\"EmailId\"]# acess the specific value"
   ]
  },
  {
   "cell_type": "code",
   "execution_count": 36,
   "metadata": {},
   "outputs": [],
   "source": [
    "d1[\"EmailId\"] = \"nag8480@gmail.com\""
   ]
  },
  {
   "cell_type": "code",
   "execution_count": 37,
   "metadata": {},
   "outputs": [
    {
     "data": {
      "text/plain": [
       "'nag8480@gmail.com'"
      ]
     },
     "execution_count": 37,
     "metadata": {},
     "output_type": "execute_result"
    }
   ],
   "source": [
    "d1[\"EmailId\"]"
   ]
  },
  {
   "cell_type": "code",
   "execution_count": 41,
   "metadata": {},
   "outputs": [
    {
     "name": "stdout",
     "output_type": "stream",
     "text": [
      "dict_keys(['Name', 'EmailId', 'Address'])\n"
     ]
    }
   ],
   "source": [
    "li = d1.keys()# all keys of dict object\n",
    "print(li)"
   ]
  },
  {
   "cell_type": "code",
   "execution_count": 42,
   "metadata": {},
   "outputs": [
    {
     "data": {
      "text/plain": [
       "dict_values(['Gitam', 'nag8480@gmail.com', 'vizag'])"
      ]
     },
     "execution_count": 42,
     "metadata": {},
     "output_type": "execute_result"
    }
   ],
   "source": [
    "d1.values() # all values of dict object"
   ]
  },
  {
   "cell_type": "code",
   "execution_count": 50,
   "metadata": {},
   "outputs": [
    {
     "ename": "KeyError",
     "evalue": "'EmailId'",
     "output_type": "error",
     "traceback": [
      "\u001b[1;31m---------------------------------------------------------------------------\u001b[0m",
      "\u001b[1;31mKeyError\u001b[0m                                  Traceback (most recent call last)",
      "\u001b[1;32m<ipython-input-50-520edcc2a3d7>\u001b[0m in \u001b[0;36m<module>\u001b[1;34m\u001b[0m\n\u001b[1;32m----> 1\u001b[1;33m \u001b[1;32mdel\u001b[0m \u001b[0md1\u001b[0m\u001b[1;33m[\u001b[0m\u001b[1;34m\"EmailId\"\u001b[0m\u001b[1;33m]\u001b[0m \u001b[1;31m#only deletes one key and value\u001b[0m\u001b[1;33m\u001b[0m\u001b[1;33m\u001b[0m\u001b[0m\n\u001b[0m",
      "\u001b[1;31mKeyError\u001b[0m: 'EmailId'"
     ]
    }
   ],
   "source": [
    "del d1[\"EmailId\"] #only deletes one key and value"
   ]
  },
  {
   "cell_type": "code",
   "execution_count": 49,
   "metadata": {},
   "outputs": [
    {
     "data": {
      "text/plain": [
       "{'Name': 'Gitam', 'Address': 'vizag'}"
      ]
     },
     "execution_count": 49,
     "metadata": {},
     "output_type": "execute_result"
    }
   ],
   "source": [
    "d1"
   ]
  },
  {
   "cell_type": "markdown",
   "metadata": {},
   "source": [
    "## contact application\n",
    "- add contact details\n",
    "- serach contact details \n",
    "- list all contacts(merge\\import)\n",
    "       -name1:value\n",
    "       -name2:value\n",
    "       -modify or update contact details\n",
    "       - delete details"
   ]
  },
  {
   "cell_type": "code",
   "execution_count": 52,
   "metadata": {},
   "outputs": [
    {
     "name": "stdout",
     "output_type": "stream",
     "text": [
      "contact details are added successfully\n",
      "contact details are added successfully\n",
      "name already exists\n"
     ]
    }
   ],
   "source": [
    "contacts = {}# empty dict object\n",
    "#let's create a function to add contact details\n",
    "def addContact(name,phone):\n",
    "    if  name not in contacts :# cond to check name is exist or not\n",
    "        contacts[name] = phone\n",
    "        print('contact details are added successfully')\n",
    "    else:\n",
    "        print('name already exists')\n",
    "    return\n",
    "addContact('Dinesh', '919234567')\n",
    "addContact('ajay','8374392242')\n",
    "addContact('Dinesh', '919234568')\n",
    "\n"
   ]
  },
  {
   "cell_type": "code",
   "execution_count": 60,
   "metadata": {},
   "outputs": [
    {
     "name": "stdout",
     "output_type": "stream",
     "text": [
      "Dinesh  :  919234567\n",
      "ajay  :  8374392242\n",
      "Dines does not present\n"
     ]
    }
   ],
   "source": [
    "def searchContact(name):\n",
    "    if name in contacts:\n",
    "        print(name, \" : \",contacts[name])\n",
    "    else:\n",
    "            print('{0} does not present'.format(name))\n",
    "            #print('%s does not present ' % name)\n",
    "    return\n",
    "searchContact('Dinesh')\n",
    "searchContact('ajay')\n",
    "searchContact('Dines')\n",
    "    \n",
    "        "
   ]
  },
  {
   "cell_type": "code",
   "execution_count": 61,
   "metadata": {},
   "outputs": [
    {
     "name": "stdout",
     "output_type": "stream",
     "text": [
      "2 Contacts are added\n"
     ]
    }
   ],
   "source": [
    "# import new contact details \n",
    "# merge the privious details with new details \n",
    "def importContact(newContacts):\n",
    "    contacts.update(newContacts)\n",
    "    print(len(newContacts.keys()),'Contacts are added')\n",
    "    return\n",
    "newContacts = {'gitam':88989889,'anil':566578378}\n",
    "importContact(newContacts)"
   ]
  },
  {
   "cell_type": "code",
   "execution_count": 62,
   "metadata": {},
   "outputs": [
    {
     "data": {
      "text/plain": [
       "{'Dinesh': '919234567',\n",
       " 'ajay': '8374392242',\n",
       " 'gitam': 88989889,\n",
       " 'anil': 566578378}"
      ]
     },
     "execution_count": 62,
     "metadata": {},
     "output_type": "execute_result"
    }
   ],
   "source": [
    "contacts\n"
   ]
  },
  {
   "cell_type": "code",
   "execution_count": 63,
   "metadata": {},
   "outputs": [
    {
     "name": "stdout",
     "output_type": "stream",
     "text": [
      "ajay Updated successfully\n",
      "naveeen not exists\n"
     ]
    }
   ],
   "source": [
    "def modifyContact(name,phone):\n",
    "    if name in contacts:\n",
    "        contacts[name] = phone\n",
    "        print(name,'Updated successfully')\n",
    "    else:\n",
    "        print(name,'not exists')\n",
    "    return\n",
    "modifyContact('ajay',908761534)\n",
    "modifyContact('naveeen',908761536)"
   ]
  },
  {
   "cell_type": "code",
   "execution_count": 66,
   "metadata": {},
   "outputs": [
    {
     "name": "stdout",
     "output_type": "stream",
     "text": [
      "anil deleted successfully\n"
     ]
    }
   ],
   "source": [
    "def deleteContact(name):\n",
    "    if name in contacts:\n",
    "        del contacts[name]\n",
    "        print(name,'deleted successfully')\n",
    "    else:\n",
    "        print(name,'not present')\n",
    "    return\n",
    "deleteContact('anil')\n",
    "        "
   ]
  },
  {
   "cell_type": "code",
   "execution_count": 67,
   "metadata": {},
   "outputs": [
    {
     "data": {
      "text/plain": [
       "{'Dinesh': '919234567', 'ajay': 908761534, 'gitam': 88989889}"
      ]
     },
     "execution_count": 67,
     "metadata": {},
     "output_type": "execute_result"
    }
   ],
   "source": [
    "contacts"
   ]
  },
  {
   "cell_type": "markdown",
   "metadata": {},
   "source": [
    "### Tuples\n",
    "- tuples enclosed with parenthesis()\n",
    "### Differernces between Tuples and List\n",
    " - list are mutable -- can  be changed / modify\n",
    "    - read and write data\n",
    "    -tuples are immutable --- can't be changed / modify\n",
    "    - read data only"
   ]
  },
  {
   "cell_type": "code",
   "execution_count": 71,
   "metadata": {},
   "outputs": [
    {
     "ename": "SyntaxError",
     "evalue": "invalid syntax (<ipython-input-71-0324522d1dd5>, line 2)",
     "output_type": "error",
     "traceback": [
      "\u001b[1;36m  File \u001b[1;32m\"<ipython-input-71-0324522d1dd5>\"\u001b[1;36m, line \u001b[1;32m2\u001b[0m\n\u001b[1;33m    print(t1(1:-1))\u001b[0m\n\u001b[1;37m              ^\u001b[0m\n\u001b[1;31mSyntaxError\u001b[0m\u001b[1;31m:\u001b[0m invalid syntax\n"
     ]
    }
   ],
   "source": [
    "t1 = (1,2,3,4,5)\n"
   ]
  },
  {
   "cell_type": "code",
   "execution_count": 72,
   "metadata": {},
   "outputs": [
    {
     "ename": "SyntaxError",
     "evalue": "invalid syntax (<ipython-input-72-6e4df77626ec>, line 1)",
     "output_type": "error",
     "traceback": [
      "\u001b[1;36m  File \u001b[1;32m\"<ipython-input-72-6e4df77626ec>\"\u001b[1;36m, line \u001b[1;32m1\u001b[0m\n\u001b[1;33m    print(t1(1:-1))\u001b[0m\n\u001b[1;37m              ^\u001b[0m\n\u001b[1;31mSyntaxError\u001b[0m\u001b[1;31m:\u001b[0m invalid syntax\n"
     ]
    }
   ],
   "source": [
    "print(t1(1:-1))"
   ]
  },
  {
   "cell_type": "markdown",
   "metadata": {},
   "source": [
    "## standard libraries\n",
    "- regular expressions\n",
    "     - to validate the indian mobile\n",
    "     -to validate emailid\n",
    "     - to validate username\n",
    "     - to validate password\n",
    "- understanding the regular expressions\n",
    "       - [0-9]--any digit matching\n",
    "       - [a-z] --any lower case matching\n",
    "       - [A-Z] --any upper case matching\n",
    "       -  cap symbol is used to represent the start of regular expressions\n",
    "       - dolar symbol is used to represent end of regular expression"
   ]
  },
  {
   "cell_type": "code",
   "execution_count": 78,
   "metadata": {},
   "outputs": [
    {
     "name": "stdout",
     "output_type": "stream",
     "text": [
      "False\n",
      "False\n"
     ]
    }
   ],
   "source": [
    "#function to test the to digit number as input\n",
    "#True -- inut two digit number\n",
    "#false -- input not two digit number\n",
    "import re\n",
    "def twoDigitMatching(n):\n",
    "    pattern = ' ^[0-9]{2}$'\n",
    "    n = str(n)#str() converts input into str format\n",
    "    if re.match(pattern, n):\n",
    "        return True\n",
    "    return False\n",
    "print(twoDigitMatching(12))\n",
    "print(twoDigitMatching(123))\n",
    "\n",
    "\n"
   ]
  },
  {
   "cell_type": "code",
   "execution_count": 19,
   "metadata": {},
   "outputs": [
    {
     "ename": "IndentationError",
     "evalue": "unindent does not match any outer indentation level (<tokenize>, line 7)",
     "output_type": "error",
     "traceback": [
      "\u001b[1;36m  File \u001b[1;32m\"<tokenize>\"\u001b[1;36m, line \u001b[1;32m7\u001b[0m\n\u001b[1;33m    if re.match(pattern,s):\u001b[0m\n\u001b[1;37m    ^\u001b[0m\n\u001b[1;31mIndentationError\u001b[0m\u001b[1;31m:\u001b[0m unindent does not match any outer indentation level\n"
     ]
    }
   ],
   "source": [
    "#regular expression for username\n",
    "#user name  --should contains lower case and upper case\n",
    "#length --min 5 max 12\n",
    "def validateMatching(s)\n",
    "       pattern = '^[a-zA-Z]{5,12}$'\n",
    "     if re.match(pattern,s):\n",
    "        return True\n",
    "      return False\n",
    "print(vaildateUsername('Anilkumar'))\n",
    "print(validateUserame('Anil'))\n",
    "print(validateUsername('Gitamvizagpython'))"
   ]
  },
  {
   "cell_type": "markdown",
   "metadata": {},
   "source": [
    "## regular expresions\n",
    "- regular expression for roll number\n",
    "- example:1521A0501 # valid\n",
    "- example: 1621A0574 #notvalid"
   ]
  },
  {
   "cell_type": "code",
   "execution_count": null,
   "metadata": {},
   "outputs": [],
   "source": []
  },
  {
   "cell_type": "markdown",
   "metadata": {},
   "source": [
    "\n",
    "### Regular Expression for Indian Mobile\n",
    "- 10 digit number\n",
    " - first number starts from [6-9]\n",
    " - rest of 9 numbers is between [0-9]\n",
    "    - example : 9851741520 # True\n",
    "    - example : 5978201520 # False\n",
    "- 11 digit number\n",
    "  - first number can be 0\n",
    "  - second number can be [6-9]\n",
    "  - rest of 9 numbers is between [0-9]\n",
    "     - example : 09851741520 # True\n",
    "     - example : 99851741520 # False\n",
    "- 13 Digit Number\n",
    " - first number can be +\n",
    " - second number 9\n",
    " - third number 1\n",
    " - fourth nuber [6-9]\n",
    " - rest of numbers [0-9]\n",
    "     - example : +919988552266 # True\n",
    "     - example : +918855266224 # True"
   ]
  },
  {
   "cell_type": "code",
   "execution_count": null,
   "metadata": {},
   "outputs": [],
   "source": [
    "#rule 1:^[6-9][0-9]{9}$\n",
    "#rule2:^[0][6-9][0-9]{9}$\n",
    "#rule3:"
   ]
  },
  {
   "cell_type": "code",
   "execution_count": 25,
   "metadata": {},
   "outputs": [
    {
     "data": {
      "text/plain": [
       "False"
      ]
     },
     "execution_count": 25,
     "metadata": {},
     "output_type": "execute_result"
    }
   ],
   "source": [
    "import re\n",
    "def validateIndianPhone(n):\n",
    "    pattern = '^[6-9][0-9] {9}$|^[0] [6-9] [0-9] {9}$|^[+] [9] [1] [6-9] [0-9] {9}$'\n",
    "    n = str(n)\n",
    "    if re.match(pattern,n):\n",
    "     return True\n",
    "    return False\n",
    "validateIndianPhone('+919988774455')#true"
   ]
  },
  {
   "cell_type": "markdown",
   "metadata": {},
   "source": [
    "### Validate the EmailID\n",
    "- example : username@DomainName.extension\n",
    "- example :dsps@gmail.com\n",
    "- username:\n",
    "          - len of string will be [6-15]\n",
    "          - no spl characters except underscore(_)\n",
    "          - username should not begins with underscor(_)\n",
    "          _all characters set digits ,lower case and uppercase\n",
    "           -ex:Anil_1889\n",
    "- Domainname:\n",
    "    - len of string will be[3-18]\n",
    "    - no spl chacters\n",
    "    - chararacters set will be digits, lower case and upper case\n",
    "       -ex:gmail,hotmail,ymail,rediff and etc;\n",
    "- extensions:\n",
    "   - len of string wil be[2-4]\n",
    "   - no spl characters allowed\n",
    "   - charcters set will lower case characters\n",
    "     -ex:com in au uk\n",
    "       \n"
   ]
  },
  {
   "cell_type": "code",
   "execution_count": null,
   "metadata": {},
   "outputs": [],
   "source": [
    "# username RE: [0-9a-zA-Z][0-9a-zA-Z_.]{5,14}\n",
    "#Domin name RE:[a-z0-9]{3,18}\n",
    "#extension RE:[a-z]{2,4}\n",
    "#emailid RE:'^[0-9a-zA-Z][0-9a-zA-Z_.]{5,14}[@][a-z0-9]{3,18}[.][a-z]{2,4}$"
   ]
  },
  {
   "cell_type": "code",
   "execution_count": 20,
   "metadata": {},
   "outputs": [
    {
     "data": {
      "text/plain": [
       "True"
      ]
     },
     "execution_count": 20,
     "metadata": {},
     "output_type": "execute_result"
    }
   ],
   "source": [
    "\n",
    "def validateEmail(email):\n",
    "   pattern = '^[0-9a-zA-Z][0-9a-zA-Z_.]{5,14}[@][a-z0-9]{3,18}[.][a-z]{2,4}$'\n",
    "   if re.match(pattern,email):\n",
    "       return True\n",
    "   return False\n",
    "validateEmail('anilkumar1889@hotmail.com')"
   ]
  },
  {
   "cell_type": "markdown",
   "metadata": {},
   "source": [
    "## python graphics\n",
    "- Lib - turtle"
   ]
  },
  {
   "cell_type": "markdown",
   "metadata": {},
   "source": [
    "### Package , Module and Sub Package\n",
    "#### Package\n",
    "   - A Collection of Modules(Single Python file .py)\n",
    "#### Module\n",
    "   - A Single Python File contains group function\n",
    "   - Package -> Sub Package -> Modules -> Functions -> Statements\n",
    "   \n",
    "Package , Module and Sub Package¶\n",
    "Package¶\n",
    "- A Collection of Modules(Single Python file .py)\n",
    "Module¶\n",
    "- A Single Python File contains group function - Package -> Sub Package -> Modules -> Functions -> Statements\n",
    "In [47]:\n",
    " \n",
    "import math\n",
    "math.floor(123.456)\n",
    "Out[47]:\n",
    "123\n"
   ]
  },
  {
   "cell_type": "code",
   "execution_count": 26,
   "metadata": {},
   "outputs": [
    {
     "data": {
      "text/plain": [
       "123"
      ]
     },
     "execution_count": 26,
     "metadata": {},
     "output_type": "execute_result"
    }
   ],
   "source": [
    "import math\n",
    "math.floor(123.456)"
   ]
  },
  {
   "cell_type": "code",
   "execution_count": 27,
   "metadata": {},
   "outputs": [
    {
     "data": {
      "text/plain": [
       "124"
      ]
     },
     "execution_count": 27,
     "metadata": {},
     "output_type": "execute_result"
    }
   ],
   "source": [
    "math.ceil(123.456)"
   ]
  },
  {
   "cell_type": "code",
   "execution_count": 28,
   "metadata": {},
   "outputs": [
    {
     "data": {
      "text/plain": [
       "3628800"
      ]
     },
     "execution_count": 28,
     "metadata": {},
     "output_type": "execute_result"
    }
   ],
   "source": [
    "from math import factorial as fact \n",
    "fact(10)"
   ]
  },
  {
   "cell_type": "code",
   "execution_count": 29,
   "metadata": {},
   "outputs": [
    {
     "data": {
      "text/plain": [
       "5"
      ]
     },
     "execution_count": 29,
     "metadata": {},
     "output_type": "execute_result"
    }
   ],
   "source": [
    "from math import gcd as gcd\n",
    "gcd(10,15)"
   ]
  },
  {
   "cell_type": "code",
   "execution_count": 36,
   "metadata": {},
   "outputs": [
    {
     "name": "stdout",
     "output_type": "stream",
     "text": [
      "79 35 88 40 41 66 16 32 23 98 "
     ]
    }
   ],
   "source": [
    "#import random package\n",
    "import random\n",
    "#function to generate the N Numbers in given range\n",
    "def generateRandNum(n,lb,ub):\n",
    "    for i in range(0,n):\n",
    "         print(random.randint(lb,ub),end=' ')\n",
    "    return\n",
    "generateRandNum(10,0,100)"
   ]
  },
  {
   "cell_type": "code",
   "execution_count": null,
   "metadata": {},
   "outputs": [],
   "source": [
    "#create a simple game\n",
    "#try to generate 20 numbers\n",
    "# input:number\n",
    "#present:congrats!!!\n",
    "#not present:try again"
   ]
  },
  {
   "cell_type": "code",
   "execution_count": 38,
   "metadata": {},
   "outputs": [
    {
     "name": "stdout",
     "output_type": "stream",
     "text": [
      "Try Again !!!\n"
     ]
    }
   ],
   "source": [
    "from random import randint as rdint\n",
    "def generateNumber(n,lb,ub):\n",
    "    li = []\n",
    "    for i in range(0,n):\n",
    "        li.append(rdint(lb,ub))\n",
    "    return li\n",
    "def check(n):\n",
    "    li = generateNumber(20,100,999)\n",
    "    if n in li:\n",
    "         print('congrats!!!')\n",
    "    else:\n",
    "        print('Try Again !!!')\n",
    "    return\n",
    "check(569)\n",
    "        "
   ]
  },
  {
   "cell_type": "code",
   "execution_count": null,
   "metadata": {},
   "outputs": [],
   "source": [
    "#draw  the line reverse direction\n",
    "import turtle as t\n",
    "a1 = t.Turtle()\n",
    "for i in range(40):\n",
    "   a1.forward(50)\n",
    "   a1.right(144)\n",
    "t.done()"
   ]
  },
  {
   "cell_type": "code",
   "execution_count": null,
   "metadata": {},
   "outputs": [],
   "source": []
  },
  {
   "cell_type": "code",
   "execution_count": null,
   "metadata": {},
   "outputs": [],
   "source": []
  },
  {
   "cell_type": "code",
   "execution_count": null,
   "metadata": {},
   "outputs": [],
   "source": []
  },
  {
   "cell_type": "code",
   "execution_count": null,
   "metadata": {},
   "outputs": [],
   "source": []
  },
  {
   "cell_type": "code",
   "execution_count": null,
   "metadata": {},
   "outputs": [],
   "source": []
  },
  {
   "cell_type": "code",
   "execution_count": null,
   "metadata": {},
   "outputs": [],
   "source": []
  },
  {
   "cell_type": "code",
   "execution_count": null,
   "metadata": {},
   "outputs": [],
   "source": []
  },
  {
   "cell_type": "code",
   "execution_count": null,
   "metadata": {},
   "outputs": [],
   "source": []
  }
 ],
 "metadata": {
  "kernelspec": {
   "display_name": "Python 3",
   "language": "python",
   "name": "python3"
  },
  "language_info": {
   "codemirror_mode": {
    "name": "ipython",
    "version": 3
   },
   "file_extension": ".py",
   "mimetype": "text/x-python",
   "name": "python",
   "nbconvert_exporter": "python",
   "pygments_lexer": "ipython3",
   "version": "3.7.3"
  }
 },
 "nbformat": 4,
 "nbformat_minor": 2
}
